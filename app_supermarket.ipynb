{
 "cells": [
  {
   "cell_type": "code",
   "execution_count": 12,
   "metadata": {},
   "outputs": [
    {
     "name": "stderr",
     "output_type": "stream",
     "text": [
      "C:\\Users\\acampos\\AppData\\Local\\Temp\\ipykernel_35252\\2701371895.py:24: UserWarning:\n",
      "\n",
      "Could not infer format, so each element will be parsed individually, falling back to `dateutil`. To ensure parsing is consistent and as-expected, please specify a format.\n",
      "\n"
     ]
    },
    {
     "data": {
      "text/html": [
       "\n",
       "        <iframe\n",
       "            width=\"100%\"\n",
       "            height=\"650\"\n",
       "            src=\"http://127.0.0.1:8050/\"\n",
       "            frameborder=\"0\"\n",
       "            allowfullscreen\n",
       "            \n",
       "        ></iframe>\n",
       "        "
      ],
      "text/plain": [
       "<IPython.lib.display.IFrame at 0x1955e19dbb0>"
      ]
     },
     "metadata": {},
     "output_type": "display_data"
    }
   ],
   "source": [
    "# ================ Estrutura Padrão de Projetos de Dashboards =======#\n",
    "\n",
    "import dash\n",
    "from dash import html, dcc\n",
    "from dash.dependencies import Input, Output\n",
    "\n",
    "import pandas as pd\n",
    "import numpy as np\n",
    "\n",
    "import plotly.express as px\n",
    "import plotly.graph_objects as go\n",
    "\n",
    "app = dash.Dash(__name__)\n",
    "\n",
    "server = app.server\n",
    "\n",
    "# ========================= Ingetão de Dados ===========#\n",
    "\n",
    "#df_data = pd.read_csv(\"C:\\\\Python\\\\ASIMOV\\\\Dashboards\\\\supermarket_sales.csv\")\n",
    "\n",
    "df_data = pd.read_csv(\"supermarket_sales.csv\")\n",
    "\n",
    "df_data[\"Date\"] = pd.to_datetime(df_data[\"Date\"])\n",
    "df_data[\"Time\"] = pd.to_datetime(df_data[\"Time\"])\n",
    "\n",
    "#df_data.info()\n",
    "\n",
    "#print(df_data)\n",
    "\n",
    "\n",
    "\n",
    "\n",
    "# ========================= Layout =====================#\n",
    "\n",
    "app.layout = html.Div(children=[\n",
    "    html.H5(\"Cidades\"),\n",
    "    dcc.Checklist(df_data[\"City\"].value_counts().index, df_data[\"City\"].value_counts().index, id=\"check_city\"),\n",
    "    html.H5(\"Variável de análise: \"),\n",
    "    dcc.RadioItems([\"gross income\",\"Rating\"],\"gross income\", id=\"main_variable\")\n",
    "])\n",
    "\n",
    "\n",
    "\n",
    "# ======================== Call Backs ==================#\n",
    "\n",
    "\n",
    "# ======================== Run Sever ===================#\n",
    "\n",
    "if __name__ == \"__main__\":\n",
    "    app.run_server(port=8050, debug=True)"
   ]
  }
 ],
 "metadata": {
  "kernelspec": {
   "display_name": ".venv",
   "language": "python",
   "name": "python3"
  },
  "language_info": {
   "codemirror_mode": {
    "name": "ipython",
    "version": 3
   },
   "file_extension": ".py",
   "mimetype": "text/x-python",
   "name": "python",
   "nbconvert_exporter": "python",
   "pygments_lexer": "ipython3",
   "version": "3.12.8"
  }
 },
 "nbformat": 4,
 "nbformat_minor": 2
}
